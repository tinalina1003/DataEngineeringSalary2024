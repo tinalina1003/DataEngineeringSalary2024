{
 "cells": [
  {
   "cell_type": "code",
   "execution_count": 113,
   "metadata": {},
   "outputs": [],
   "source": [
    "import pandas as pd\n",
    "import matplotlib.pyplot as plt\n",
    "import seaborn as sns\n",
    "import matplotlib.ticker as ticker\n"
   ]
  },
  {
   "cell_type": "code",
   "execution_count": 2,
   "metadata": {},
   "outputs": [
    {
     "data": {
      "text/html": [
       "<div>\n",
       "<style scoped>\n",
       "    .dataframe tbody tr th:only-of-type {\n",
       "        vertical-align: middle;\n",
       "    }\n",
       "\n",
       "    .dataframe tbody tr th {\n",
       "        vertical-align: top;\n",
       "    }\n",
       "\n",
       "    .dataframe thead th {\n",
       "        text-align: right;\n",
       "    }\n",
       "</style>\n",
       "<table border=\"1\" class=\"dataframe\">\n",
       "  <thead>\n",
       "    <tr style=\"text-align: right;\">\n",
       "      <th></th>\n",
       "      <th>work_year</th>\n",
       "      <th>experience_level</th>\n",
       "      <th>employment_type</th>\n",
       "      <th>job_title</th>\n",
       "      <th>salary</th>\n",
       "      <th>salary_currency</th>\n",
       "      <th>salary_in_usd</th>\n",
       "      <th>employee_residence</th>\n",
       "      <th>remote_ratio</th>\n",
       "      <th>company_location</th>\n",
       "      <th>company_size</th>\n",
       "    </tr>\n",
       "  </thead>\n",
       "  <tbody>\n",
       "    <tr>\n",
       "      <th>0</th>\n",
       "      <td>2024</td>\n",
       "      <td>SE</td>\n",
       "      <td>FT</td>\n",
       "      <td>AI Engineer</td>\n",
       "      <td>202730</td>\n",
       "      <td>USD</td>\n",
       "      <td>202730</td>\n",
       "      <td>US</td>\n",
       "      <td>0</td>\n",
       "      <td>US</td>\n",
       "      <td>M</td>\n",
       "    </tr>\n",
       "    <tr>\n",
       "      <th>1</th>\n",
       "      <td>2024</td>\n",
       "      <td>SE</td>\n",
       "      <td>FT</td>\n",
       "      <td>AI Engineer</td>\n",
       "      <td>92118</td>\n",
       "      <td>USD</td>\n",
       "      <td>92118</td>\n",
       "      <td>US</td>\n",
       "      <td>0</td>\n",
       "      <td>US</td>\n",
       "      <td>M</td>\n",
       "    </tr>\n",
       "    <tr>\n",
       "      <th>2</th>\n",
       "      <td>2024</td>\n",
       "      <td>SE</td>\n",
       "      <td>FT</td>\n",
       "      <td>Data Engineer</td>\n",
       "      <td>130500</td>\n",
       "      <td>USD</td>\n",
       "      <td>130500</td>\n",
       "      <td>US</td>\n",
       "      <td>0</td>\n",
       "      <td>US</td>\n",
       "      <td>M</td>\n",
       "    </tr>\n",
       "    <tr>\n",
       "      <th>3</th>\n",
       "      <td>2024</td>\n",
       "      <td>SE</td>\n",
       "      <td>FT</td>\n",
       "      <td>Data Engineer</td>\n",
       "      <td>96000</td>\n",
       "      <td>USD</td>\n",
       "      <td>96000</td>\n",
       "      <td>US</td>\n",
       "      <td>0</td>\n",
       "      <td>US</td>\n",
       "      <td>M</td>\n",
       "    </tr>\n",
       "    <tr>\n",
       "      <th>4</th>\n",
       "      <td>2024</td>\n",
       "      <td>SE</td>\n",
       "      <td>FT</td>\n",
       "      <td>Machine Learning Engineer</td>\n",
       "      <td>190000</td>\n",
       "      <td>USD</td>\n",
       "      <td>190000</td>\n",
       "      <td>US</td>\n",
       "      <td>0</td>\n",
       "      <td>US</td>\n",
       "      <td>M</td>\n",
       "    </tr>\n",
       "  </tbody>\n",
       "</table>\n",
       "</div>"
      ],
      "text/plain": [
       "   work_year experience_level employment_type                  job_title  \\\n",
       "0       2024               SE              FT                AI Engineer   \n",
       "1       2024               SE              FT                AI Engineer   \n",
       "2       2024               SE              FT              Data Engineer   \n",
       "3       2024               SE              FT              Data Engineer   \n",
       "4       2024               SE              FT  Machine Learning Engineer   \n",
       "\n",
       "   salary salary_currency  salary_in_usd employee_residence  remote_ratio  \\\n",
       "0  202730             USD         202730                 US             0   \n",
       "1   92118             USD          92118                 US             0   \n",
       "2  130500             USD         130500                 US             0   \n",
       "3   96000             USD          96000                 US             0   \n",
       "4  190000             USD         190000                 US             0   \n",
       "\n",
       "  company_location company_size  \n",
       "0               US            M  \n",
       "1               US            M  \n",
       "2               US            M  \n",
       "3               US            M  \n",
       "4               US            M  "
      ]
     },
     "execution_count": 2,
     "metadata": {},
     "output_type": "execute_result"
    }
   ],
   "source": [
    "salary_df = pd.read_csv(\"Resources/salaries.csv\")\n",
    "salary_df.head()"
   ]
  },
  {
   "cell_type": "code",
   "execution_count": 3,
   "metadata": {},
   "outputs": [
    {
     "name": "stdout",
     "output_type": "stream",
     "text": [
      "<class 'pandas.core.frame.DataFrame'>\n",
      "RangeIndex: 16534 entries, 0 to 16533\n",
      "Data columns (total 11 columns):\n",
      " #   Column              Non-Null Count  Dtype \n",
      "---  ------              --------------  ----- \n",
      " 0   work_year           16534 non-null  int64 \n",
      " 1   experience_level    16534 non-null  object\n",
      " 2   employment_type     16534 non-null  object\n",
      " 3   job_title           16534 non-null  object\n",
      " 4   salary              16534 non-null  int64 \n",
      " 5   salary_currency     16534 non-null  object\n",
      " 6   salary_in_usd       16534 non-null  int64 \n",
      " 7   employee_residence  16534 non-null  object\n",
      " 8   remote_ratio        16534 non-null  int64 \n",
      " 9   company_location    16534 non-null  object\n",
      " 10  company_size        16534 non-null  object\n",
      "dtypes: int64(4), object(7)\n",
      "memory usage: 1.4+ MB\n"
     ]
    }
   ],
   "source": [
    "salary_df.info()"
   ]
  },
  {
   "cell_type": "code",
   "execution_count": 5,
   "metadata": {},
   "outputs": [
    {
     "data": {
      "text/plain": [
       "work_year                5\n",
       "experience_level         4\n",
       "employment_type          4\n",
       "job_title              155\n",
       "salary                2560\n",
       "salary_currency         23\n",
       "salary_in_usd         2939\n",
       "employee_residence      88\n",
       "remote_ratio             3\n",
       "company_location        77\n",
       "company_size             3\n",
       "dtype: int64"
      ]
     },
     "execution_count": 5,
     "metadata": {},
     "output_type": "execute_result"
    }
   ],
   "source": [
    "# nunique tells me how many unique values are in each column\n",
    "salary_df.nunique()"
   ]
  },
  {
   "cell_type": "code",
   "execution_count": 11,
   "metadata": {},
   "outputs": [
    {
     "data": {
      "text/plain": [
       "SE    10670\n",
       "MI     4038\n",
       "EN     1325\n",
       "EX      501\n",
       "Name: experience_level, dtype: int64"
      ]
     },
     "execution_count": 11,
     "metadata": {},
     "output_type": "execute_result"
    }
   ],
   "source": [
    "# create different smaller dataframes to plot\n",
    "salary_df['experience_level'].value_counts()"
   ]
  },
  {
   "cell_type": "code",
   "execution_count": 116,
   "metadata": {},
   "outputs": [
    {
     "data": {
      "image/png": "[encoded data removed]",
      "text/plain": [
       "<Figure size 1200x675 with 1 Axes>"
      ]
     },
     "metadata": {},
     "output_type": "display_data"
    }
   ],
   "source": [
    "#plot salary based on experience level\n",
    "\n",
    "plt.figure(figsize = (12, 6.75))\n",
    "\n",
    "\n",
    "ax = sns.boxplot(data = salary_df, x = 'experience_level', y = 'salary_in_usd', order = ['EN', 'MI', 'SE', 'EX'],\n",
    "                 linewidth = 1,\n",
    "                 width = .2,\n",
    "                 flierprops = dict(marker='o', markersize = 5, markerfacecolor= 'white'))\n",
    "\n",
    "# Set it so it's easier to read using major formatter\n",
    "ax.yaxis.set_major_formatter(ticker.EngFormatter())\n",
    "\n",
    "# change title\n",
    "plt.title(\"Data Engineering Experience Level Salary 2024\", fontsize = 14)\n",
    "\n",
    "# axis labels\n",
    "plt.xlabel('Experience Level')\n",
    "plt.ylabel('Salary in USD')\n",
    "\n",
    "sns.despine()\n",
    "\n",
    "plt.show()"
   ]
  },
  {
   "cell_type": "code",
   "execution_count": 107,
   "metadata": {},
   "outputs": [
    {
     "name": "stdout",
     "output_type": "stream",
     "text": [
      "\n",
      "Experience Level: EN\n",
      "Lower Quartile: 58000.0\n",
      "Upper Quartile: 116000.0\n",
      "Interquartile Range: 58000.0\n",
      "\n",
      "Experience Level: EX\n",
      "Lower Quartile: 145000.0\n",
      "Upper Quartile: 236000.0\n",
      "Interquartile Range: 91000.0\n",
      "\n",
      "Experience Level: MI\n",
      "Lower Quartile: 80982.0\n",
      "Upper Quartile: 155000.0\n",
      "Interquartile Range: 74018.0\n",
      "\n",
      "Experience Level: SE\n",
      "Lower Quartile: 120000.0\n",
      "Upper Quartile: 200000.0\n",
      "Interquartile Range: 80000.0\n"
     ]
    }
   ],
   "source": [
    "# Analysis\n",
    "# The KeyError you're encountering (KeyError: 0.25) indicates that the specified quantile (0.25) is not \n",
    "# present in the index of the quartiles DataFrame. This can happen if the calculated quantiles don't exactly \n",
    "# match the specified quantiles due to rounding or other factors.\n",
    "\n",
    "# Calculate quartiles and IQR for each experience level\n",
    "# salary_df.groupby('experience_level')['salary_in_usd'].quantile([0.25, 0.5, 0.75]) calculates quartiles for each experience level.\n",
    "quartiles = salary_df.groupby('experience_level')['salary_in_usd'].quantile([0.25, 0.5, 0.75])\n",
    "\n",
    "# quantile basically gives back values in the series that are at the argumented values\n",
    "\n",
    "#quartiles.groupby returns a dictionary pairing of the exp_level and the quartiles that are defined\n",
    "for exp_level, quartile_values in quartiles.groupby(level=0): \n",
    "    lowerq = quartile_values.loc[(exp_level,0.25)]\n",
    "    upperq = quartile_values.loc[(exp_level, 0.75)]\n",
    "    iqr = upperq-lowerq\n",
    "\n",
    "    print(f\"\\nExperience Level: {exp_level}\")\n",
    "    print(f\"Lower Quartile: {lowerq}\")\n",
    "    print(f\"Upper Quartile: {upperq}\")\n",
    "    print(f\"Interquartile Range: {iqr}\")\n",
    "\n",
    "\n",
    "\n"
   ]
  },
  {
   "cell_type": "code",
   "execution_count": 111,
   "metadata": {},
   "outputs": [
    {
     "data": {
      "text/plain": [
       "{'EN': [('EN', 0.25), ('EN', 0.5), ('EN', 0.75)], 'EX': [('EX', 0.25), ('EX', 0.5), ('EX', 0.75)], 'MI': [('MI', 0.25), ('MI', 0.5), ('MI', 0.75)], 'SE': [('SE', 0.25), ('SE', 0.5), ('SE', 0.75)]}"
      ]
     },
     "execution_count": 111,
     "metadata": {},
     "output_type": "execute_result"
    }
   ],
   "source": [
    "quartiles.groupby(level=0).groups"
   ]
  },
  {
   "cell_type": "code",
   "execution_count": 106,
   "metadata": {},
   "outputs": [
    {
     "data": {
      "text/plain": [
       "{'EN': [8, 9, 24, 25, 30, 31, 74, 75, 114, 115, 145, 162, 163, 190, 191, 216, 217, 228, 229, 240, 241, 313, 314, 319, 320, 331, 332, 337, 338, 387, 388, 447, 448, 453, 454, 465, 466, 493, 494, 495, 496, 513, 514, 570, 575, 576, 577, 578, 579, 580, 587, 588, 589, 590, 657, 658, 667, 668, 673, 674, 675, 676, 679, 680, 683, 684, 695, 696, 721, 722, 723, 724, 743, 744, 747, 748, 768, 769, 772, 773, 776, 777, 788, 789, 821, 822, 853, 854, 855, 856, 881, 882, 888, 889, 908, 909, 956, 957, 1036, 1045, ...], 'EX': [12, 13, 133, 134, 164, 165, 166, 167, 182, 183, 236, 237, 296, 297, 347, 348, 379, 380, 457, 458, 487, 488, 543, 544, 613, 614, 653, 654, 831, 832, 833, 834, 847, 848, 944, 945, 1012, 1013, 1128, 1129, 1207, 1208, 1217, 1218, 1255, 1256, 1410, 1411, 1432, 1433, 1458, 1459, 1580, 1581, 1596, 1597, 1604, 1605, 1629, 1630, 1796, 1797, 1798, 1799, 1800, 1801, 1922, 1923, 1966, 1967, 2011, 2012, 2055, 2056, 2075, 2076, 2111, 2112, 2129, 2130, 2161, 2162, 2240, 2241, 2298, 2299, 2344, 2345, 2381, 2382, 2432, 2433, 2486, 2487, 2524, 2525, 2540, 2541, 2665, 2666, ...], 'MI': [6, 7, 14, 15, 20, 21, 26, 27, 28, 29, 36, 37, 38, 39, 40, 41, 42, 43, 44, 45, 52, 53, 54, 55, 58, 59, 64, 65, 68, 69, 70, 71, 82, 83, 84, 85, 86, 87, 92, 93, 96, 97, 102, 103, 104, 105, 106, 107, 108, 109, 122, 123, 129, 130, 137, 138, 139, 140, 141, 142, 146, 147, 148, 149, 160, 161, 174, 175, 188, 189, 200, 201, 202, 203, 208, 209, 210, 211, 222, 223, 224, 225, 226, 227, 230, 231, 232, 233, 238, 239, 248, 249, 254, 255, 260, 261, 262, 263, 274, 275, ...], 'SE': [0, 1, 2, 3, 4, 5, 10, 11, 16, 17, 18, 19, 22, 23, 32, 33, 34, 35, 46, 47, 48, 49, 50, 51, 56, 57, 60, 61, 62, 63, 66, 67, 72, 73, 76, 77, 78, 79, 80, 81, 88, 89, 90, 91, 94, 95, 98, 99, 100, 101, 110, 111, 112, 113, 116, 117, 118, 119, 120, 121, 124, 125, 126, 127, 128, 131, 132, 135, 136, 143, 144, 150, 151, 152, 153, 154, 155, 156, 157, 158, 159, 168, 169, 170, 171, 172, 173, 176, 177, 178, 179, 180, 181, 184, 185, 186, 187, 192, 193, 194, ...]}"
      ]
     },
     "execution_count": 106,
     "metadata": {},
     "output_type": "execute_result"
    }
   ],
   "source": [
    "salary_df.groupby('experience_level')['salary_in_usd'].groups"
   ]
  },
  {
   "cell_type": "code",
   "execution_count": null,
   "metadata": {},
   "outputs": [],
   "source": []
  }
 ],
 "metadata": {
  "kernelspec": {
   "display_name": "dev",
   "language": "python",
   "name": "python3"
  },
  "language_info": {
   "codemirror_mode": {
    "name": "ipython",
    "version": 3
   },
   "file_extension": ".py",
   "mimetype": "text/x-python",
   "name": "python",
   "nbconvert_exporter": "python",
   "pygments_lexer": "ipython3",
   "version": "3.10.12"
  }
 },
 "nbformat": 4,
 "nbformat_minor": 2
}
